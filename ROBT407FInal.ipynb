{
  "nbformat": 4,
  "nbformat_minor": 0,
  "metadata": {
    "colab": {
      "provenance": [],
      "gpuType": "T4"
    },
    "kernelspec": {
      "name": "python3",
      "display_name": "Python 3"
    },
    "language_info": {
      "name": "python"
    },
    "accelerator": "GPU"
  },
  "cells": [
    {
      "cell_type": "code",
      "execution_count": null,
      "metadata": {
        "colab": {
          "base_uri": "https://localhost:8080/"
        },
        "id": "m1zed1Z4mbet",
        "outputId": "f5a2e12d-ba4c-4443-85a7-e43a4c8d823b"
      },
      "outputs": [
        {
          "output_type": "stream",
          "name": "stdout",
          "text": [
            "Cloning into 'ROBT407Final'...\n",
            "remote: Enumerating objects: 119, done.\u001b[K\n",
            "remote: Counting objects: 100% (67/67), done.\u001b[K\n",
            "remote: Compressing objects: 100% (46/46), done.\u001b[K\n",
            "remote: Total 119 (delta 30), reused 43 (delta 16), pack-reused 52\u001b[K\n",
            "Receiving objects: 100% (119/119), 180.16 MiB | 11.28 MiB/s, done.\n",
            "Resolving deltas: 100% (44/44), done.\n"
          ]
        }
      ],
      "source": [
        "!git clone https://github.com/sula234/ROBT407Final"
      ]
    },
    {
      "cell_type": "code",
      "source": [
        "%cd ROBT407Final\n",
        "!git checkout d1b571b177bf0f44b76946d13de9c2073c1ff970"
      ],
      "metadata": {
        "colab": {
          "base_uri": "https://localhost:8080/"
        },
        "id": "8q8hgJ8-dmpC",
        "outputId": "b23369e1-6684-4482-d123-7e2e6dc8d57f"
      },
      "execution_count": null,
      "outputs": [
        {
          "output_type": "stream",
          "name": "stdout",
          "text": [
            "/content/ROBT407Final\n",
            "HEAD is now at d1b571b Fixed bug\n"
          ]
        }
      ]
    },
    {
      "cell_type": "markdown",
      "source": [
        "Upload kaggle.json file"
      ],
      "metadata": {
        "id": "enqJKtnlu076"
      }
    },
    {
      "cell_type": "code",
      "source": [
        "from google.colab import files\n",
        "\n",
        "# Upload kaggle.json file\n",
        "files.upload()"
      ],
      "metadata": {
        "colab": {
          "base_uri": "https://localhost:8080/",
          "height": 90
        },
        "id": "IFlPur_dx5_Q",
        "outputId": "a724b0f9-1186-40e8-e794-d4624963979a"
      },
      "execution_count": null,
      "outputs": [
        {
          "output_type": "display_data",
          "data": {
            "text/plain": [
              "<IPython.core.display.HTML object>"
            ],
            "text/html": [
              "\n",
              "     <input type=\"file\" id=\"files-31f2e70f-321c-4709-bd7c-e680aa1de56e\" name=\"files[]\" multiple disabled\n",
              "        style=\"border:none\" />\n",
              "     <output id=\"result-31f2e70f-321c-4709-bd7c-e680aa1de56e\">\n",
              "      Upload widget is only available when the cell has been executed in the\n",
              "      current browser session. Please rerun this cell to enable.\n",
              "      </output>\n",
              "      <script>// Copyright 2017 Google LLC\n",
              "//\n",
              "// Licensed under the Apache License, Version 2.0 (the \"License\");\n",
              "// you may not use this file except in compliance with the License.\n",
              "// You may obtain a copy of the License at\n",
              "//\n",
              "//      http://www.apache.org/licenses/LICENSE-2.0\n",
              "//\n",
              "// Unless required by applicable law or agreed to in writing, software\n",
              "// distributed under the License is distributed on an \"AS IS\" BASIS,\n",
              "// WITHOUT WARRANTIES OR CONDITIONS OF ANY KIND, either express or implied.\n",
              "// See the License for the specific language governing permissions and\n",
              "// limitations under the License.\n",
              "\n",
              "/**\n",
              " * @fileoverview Helpers for google.colab Python module.\n",
              " */\n",
              "(function(scope) {\n",
              "function span(text, styleAttributes = {}) {\n",
              "  const element = document.createElement('span');\n",
              "  element.textContent = text;\n",
              "  for (const key of Object.keys(styleAttributes)) {\n",
              "    element.style[key] = styleAttributes[key];\n",
              "  }\n",
              "  return element;\n",
              "}\n",
              "\n",
              "// Max number of bytes which will be uploaded at a time.\n",
              "const MAX_PAYLOAD_SIZE = 100 * 1024;\n",
              "\n",
              "function _uploadFiles(inputId, outputId) {\n",
              "  const steps = uploadFilesStep(inputId, outputId);\n",
              "  const outputElement = document.getElementById(outputId);\n",
              "  // Cache steps on the outputElement to make it available for the next call\n",
              "  // to uploadFilesContinue from Python.\n",
              "  outputElement.steps = steps;\n",
              "\n",
              "  return _uploadFilesContinue(outputId);\n",
              "}\n",
              "\n",
              "// This is roughly an async generator (not supported in the browser yet),\n",
              "// where there are multiple asynchronous steps and the Python side is going\n",
              "// to poll for completion of each step.\n",
              "// This uses a Promise to block the python side on completion of each step,\n",
              "// then passes the result of the previous step as the input to the next step.\n",
              "function _uploadFilesContinue(outputId) {\n",
              "  const outputElement = document.getElementById(outputId);\n",
              "  const steps = outputElement.steps;\n",
              "\n",
              "  const next = steps.next(outputElement.lastPromiseValue);\n",
              "  return Promise.resolve(next.value.promise).then((value) => {\n",
              "    // Cache the last promise value to make it available to the next\n",
              "    // step of the generator.\n",
              "    outputElement.lastPromiseValue = value;\n",
              "    return next.value.response;\n",
              "  });\n",
              "}\n",
              "\n",
              "/**\n",
              " * Generator function which is called between each async step of the upload\n",
              " * process.\n",
              " * @param {string} inputId Element ID of the input file picker element.\n",
              " * @param {string} outputId Element ID of the output display.\n",
              " * @return {!Iterable<!Object>} Iterable of next steps.\n",
              " */\n",
              "function* uploadFilesStep(inputId, outputId) {\n",
              "  const inputElement = document.getElementById(inputId);\n",
              "  inputElement.disabled = false;\n",
              "\n",
              "  const outputElement = document.getElementById(outputId);\n",
              "  outputElement.innerHTML = '';\n",
              "\n",
              "  const pickedPromise = new Promise((resolve) => {\n",
              "    inputElement.addEventListener('change', (e) => {\n",
              "      resolve(e.target.files);\n",
              "    });\n",
              "  });\n",
              "\n",
              "  const cancel = document.createElement('button');\n",
              "  inputElement.parentElement.appendChild(cancel);\n",
              "  cancel.textContent = 'Cancel upload';\n",
              "  const cancelPromise = new Promise((resolve) => {\n",
              "    cancel.onclick = () => {\n",
              "      resolve(null);\n",
              "    };\n",
              "  });\n",
              "\n",
              "  // Wait for the user to pick the files.\n",
              "  const files = yield {\n",
              "    promise: Promise.race([pickedPromise, cancelPromise]),\n",
              "    response: {\n",
              "      action: 'starting',\n",
              "    }\n",
              "  };\n",
              "\n",
              "  cancel.remove();\n",
              "\n",
              "  // Disable the input element since further picks are not allowed.\n",
              "  inputElement.disabled = true;\n",
              "\n",
              "  if (!files) {\n",
              "    return {\n",
              "      response: {\n",
              "        action: 'complete',\n",
              "      }\n",
              "    };\n",
              "  }\n",
              "\n",
              "  for (const file of files) {\n",
              "    const li = document.createElement('li');\n",
              "    li.append(span(file.name, {fontWeight: 'bold'}));\n",
              "    li.append(span(\n",
              "        `(${file.type || 'n/a'}) - ${file.size} bytes, ` +\n",
              "        `last modified: ${\n",
              "            file.lastModifiedDate ? file.lastModifiedDate.toLocaleDateString() :\n",
              "                                    'n/a'} - `));\n",
              "    const percent = span('0% done');\n",
              "    li.appendChild(percent);\n",
              "\n",
              "    outputElement.appendChild(li);\n",
              "\n",
              "    const fileDataPromise = new Promise((resolve) => {\n",
              "      const reader = new FileReader();\n",
              "      reader.onload = (e) => {\n",
              "        resolve(e.target.result);\n",
              "      };\n",
              "      reader.readAsArrayBuffer(file);\n",
              "    });\n",
              "    // Wait for the data to be ready.\n",
              "    let fileData = yield {\n",
              "      promise: fileDataPromise,\n",
              "      response: {\n",
              "        action: 'continue',\n",
              "      }\n",
              "    };\n",
              "\n",
              "    // Use a chunked sending to avoid message size limits. See b/62115660.\n",
              "    let position = 0;\n",
              "    do {\n",
              "      const length = Math.min(fileData.byteLength - position, MAX_PAYLOAD_SIZE);\n",
              "      const chunk = new Uint8Array(fileData, position, length);\n",
              "      position += length;\n",
              "\n",
              "      const base64 = btoa(String.fromCharCode.apply(null, chunk));\n",
              "      yield {\n",
              "        response: {\n",
              "          action: 'append',\n",
              "          file: file.name,\n",
              "          data: base64,\n",
              "        },\n",
              "      };\n",
              "\n",
              "      let percentDone = fileData.byteLength === 0 ?\n",
              "          100 :\n",
              "          Math.round((position / fileData.byteLength) * 100);\n",
              "      percent.textContent = `${percentDone}% done`;\n",
              "\n",
              "    } while (position < fileData.byteLength);\n",
              "  }\n",
              "\n",
              "  // All done.\n",
              "  yield {\n",
              "    response: {\n",
              "      action: 'complete',\n",
              "    }\n",
              "  };\n",
              "}\n",
              "\n",
              "scope.google = scope.google || {};\n",
              "scope.google.colab = scope.google.colab || {};\n",
              "scope.google.colab._files = {\n",
              "  _uploadFiles,\n",
              "  _uploadFilesContinue,\n",
              "};\n",
              "})(self);\n",
              "</script> "
            ]
          },
          "metadata": {}
        },
        {
          "output_type": "stream",
          "name": "stdout",
          "text": [
            "Saving kaggle.json to kaggle.json\n"
          ]
        },
        {
          "output_type": "execute_result",
          "data": {
            "text/plain": [
              "{'kaggle.json': b'{\"username\":\"sultan1703\",\"key\":\"6eef98ebad4f5a646f9ba4138f3a428f\"}'}"
            ]
          },
          "metadata": {},
          "execution_count": 3
        }
      ]
    },
    {
      "cell_type": "markdown",
      "source": [
        "Install data from kaggle"
      ],
      "metadata": {
        "id": "plnXLVr_x7K4"
      }
    },
    {
      "cell_type": "code",
      "source": [
        "%cd ../"
      ],
      "metadata": {
        "colab": {
          "base_uri": "https://localhost:8080/"
        },
        "id": "5lLC8lKLg_5N",
        "outputId": "a4193239-8b39-4225-cc1f-5bf4ab3daeb5"
      },
      "execution_count": null,
      "outputs": [
        {
          "output_type": "stream",
          "name": "stdout",
          "text": [
            "/content\n"
          ]
        }
      ]
    },
    {
      "cell_type": "code",
      "source": [
        "#!pip install kaggle\n",
        "! mkdir ~/.kaggle\n",
        "! cp kaggle.json ~/.kaggle/\n",
        "! chmod 600 ~/.kaggle/kaggle.json\n",
        "!kaggle competitions download -c dogs-vs-cats"
      ],
      "metadata": {
        "colab": {
          "base_uri": "https://localhost:8080/"
        },
        "id": "OD_EWt5cmqkL",
        "outputId": "0ac43db0-b6a6-4a7a-9fc7-e9d7feb72ec4"
      },
      "execution_count": null,
      "outputs": [
        {
          "output_type": "stream",
          "name": "stdout",
          "text": [
            "mkdir: cannot create directory ‘/root/.kaggle’: File exists\n",
            "Downloading dogs-vs-cats.zip to /content\n",
            " 99% 808M/812M [00:08<00:00, 253MB/s]\n",
            "100% 812M/812M [00:08<00:00, 100MB/s]\n"
          ]
        }
      ]
    },
    {
      "cell_type": "code",
      "source": [
        "!unzip dogs-vs-cats.zip"
      ],
      "metadata": {
        "colab": {
          "base_uri": "https://localhost:8080/"
        },
        "id": "JrlYL9e1vDph",
        "outputId": "311277c6-1eb9-4307-fecc-a409de175bbd"
      },
      "execution_count": null,
      "outputs": [
        {
          "output_type": "stream",
          "name": "stdout",
          "text": [
            "Archive:  dogs-vs-cats.zip\n",
            "  inflating: sampleSubmission.csv    \n",
            "  inflating: test1.zip               \n",
            "  inflating: train.zip               \n"
          ]
        }
      ]
    },
    {
      "cell_type": "code",
      "source": [
        "!mkdir ROBT407Final/data\n",
        "!unzip train.zip -d ROBT407Final/data"
      ],
      "metadata": {
        "id": "iFszqZ6bvrOZ",
        "colab": {
          "base_uri": "https://localhost:8080/"
        },
        "outputId": "806f06ec-44a6-4c38-f13a-727f64f6a0dd"
      },
      "execution_count": null,
      "outputs": [
        {
          "output_type": "stream",
          "name": "stdout",
          "text": [
            "mkdir: cannot create directory ‘ROBT407Final/data’: File exists\n",
            "Archive:  train.zip\n",
            "replace ROBT407Final/data/train/cat.0.jpg? [y]es, [n]o, [A]ll, [N]one, [r]ename: "
          ]
        }
      ]
    },
    {
      "cell_type": "code",
      "source": [
        "%cd ROBT407Final\n",
        "!python dataset/data_split.py"
      ],
      "metadata": {
        "colab": {
          "base_uri": "https://localhost:8080/"
        },
        "id": "2ksr3Q4vnVHj",
        "outputId": "0e387c2e-c9c8-4f8d-f928-80336bafae64"
      },
      "execution_count": null,
      "outputs": [
        {
          "output_type": "stream",
          "name": "stdout",
          "text": [
            "/content/ROBT407Final\n",
            "Dataset has been divided into train and val sets for cats and dogs.\n"
          ]
        }
      ]
    },
    {
      "cell_type": "code",
      "source": [
        "!pip install hydra-core colorlog"
      ],
      "metadata": {
        "colab": {
          "base_uri": "https://localhost:8080/"
        },
        "id": "L8cUqAdwyLQ5",
        "outputId": "a0f44ea7-0892-4349-aed6-547377bbfdde"
      },
      "execution_count": null,
      "outputs": [
        {
          "output_type": "stream",
          "name": "stdout",
          "text": [
            "Requirement already satisfied: hydra-core in /usr/local/lib/python3.10/dist-packages (1.3.2)\n",
            "Requirement already satisfied: colorlog in /usr/local/lib/python3.10/dist-packages (6.8.0)\n",
            "Requirement already satisfied: omegaconf<2.4,>=2.2 in /usr/local/lib/python3.10/dist-packages (from hydra-core) (2.3.0)\n",
            "Requirement already satisfied: antlr4-python3-runtime==4.9.* in /usr/local/lib/python3.10/dist-packages (from hydra-core) (4.9.3)\n",
            "Requirement already satisfied: packaging in /usr/local/lib/python3.10/dist-packages (from hydra-core) (23.2)\n",
            "Requirement already satisfied: PyYAML>=5.1.0 in /usr/local/lib/python3.10/dist-packages (from omegaconf<2.4,>=2.2->hydra-core) (6.0.1)\n"
          ]
        }
      ]
    },
    {
      "cell_type": "code",
      "source": [
        "!python train.py"
      ],
      "metadata": {
        "colab": {
          "base_uri": "https://localhost:8080/"
        },
        "id": "W2eHIsQjngPD",
        "outputId": "421e424f-57d8-4370-da41-1fe31b443293"
      },
      "execution_count": null,
      "outputs": [
        {
          "output_type": "stream",
          "name": "stdout",
          "text": [
            "/usr/local/lib/python3.10/dist-packages/torchvision/models/_utils.py:208: UserWarning: The parameter 'pretrained' is deprecated since 0.13 and may be removed in the future, please use 'weights' instead.\n",
            "  warnings.warn(\n",
            "/usr/local/lib/python3.10/dist-packages/torchvision/models/_utils.py:223: UserWarning: Arguments other than a weight enum or `None` for 'weights' are deprecated since 0.13 and may be removed in the future. The current behavior is equivalent to passing `weights=VGG16_Weights.IMAGENET1K_V1`. You can also use `weights=VGG16_Weights.DEFAULT` to get the most up-to-date weights.\n",
            "  warnings.warn(msg)\n",
            "Downloading: \"https://download.pytorch.org/models/vgg16-397923af.pth\" to /root/.cache/torch/hub/checkpoints/vgg16-397923af.pth\n",
            "100% 528M/528M [00:03<00:00, 164MB/s]\n",
            "[\u001b[36m2023-12-03 16:36:33\u001b[0m]\u001b[32m[INFO]\u001b[0m\u001b[36m PretrainedVGG16 parameters amount: 134,268,738\u001b[0m\n",
            "[\u001b[36m2023-12-03 16:36:33\u001b[0m]\u001b[32m[INFO]\u001b[0m\u001b[36m Using device=cuda\u001b[0m\n",
            "Training: 100% 2487/2487 [04:36<00:00,  8.99it/s]\n",
            "Validation: 100% 639/639 [00:25<00:00, 24.84it/s]\n",
            "[\u001b[36m2023-12-03 16:41:41\u001b[0m]\u001b[32m[INFO]\u001b[0m\u001b[36m Epoch=0, Train accuracy=0.9331791400909424, Validation accuracy=0.9278027415275574, Loss=0.26374487445332034\u001b[0m\n",
            "Training: 100% 2487/2487 [04:18<00:00,  9.63it/s]\n",
            "Validation: 100% 639/639 [00:24<00:00, 25.78it/s]\n",
            "[\u001b[36m2023-12-03 16:46:24\u001b[0m]\u001b[32m[INFO]\u001b[0m\u001b[36m Epoch=1, Train accuracy=0.9360953569412231, Validation accuracy=0.9495206475257874, Loss=0.34295259585909954\u001b[0m\n",
            "Training: 100% 2487/2487 [04:13<00:00,  9.82it/s]\n",
            "Validation: 100% 639/639 [00:24<00:00, 25.70it/s]\n",
            "[\u001b[36m2023-12-03 16:51:02\u001b[0m]\u001b[32m[INFO]\u001b[0m\u001b[36m Epoch=2, Train accuracy=0.9371511936187744, Validation accuracy=0.9424769878387451, Loss=0.3617110976822888\u001b[0m\n",
            "Training: 100% 2487/2487 [04:13<00:00,  9.83it/s]\n",
            "Validation: 100% 639/639 [00:25<00:00, 25.51it/s]\n",
            "[\u001b[36m2023-12-03 16:55:41\u001b[0m]\u001b[32m[INFO]\u001b[0m\u001b[36m Epoch=3, Train accuracy=0.9397154450416565, Validation accuracy=0.9414986968040466, Loss=0.3577977005270197\u001b[0m\n",
            "Training: 100% 2487/2487 [04:12<00:00,  9.85it/s]\n",
            "Validation: 100% 639/639 [00:24<00:00, 25.88it/s]\n",
            "[\u001b[36m2023-12-03 17:00:18\u001b[0m]\u001b[32m[INFO]\u001b[0m\u001b[36m Epoch=4, Train accuracy=0.9392629265785217, Validation accuracy=0.9469770789146423, Loss=0.39137340359916206\u001b[0m\n",
            "Training: 100% 2487/2487 [04:13<00:00,  9.83it/s]\n",
            "Validation: 100% 639/639 [00:24<00:00, 25.68it/s]\n",
            "[\u001b[36m2023-12-03 17:04:56\u001b[0m]\u001b[32m[INFO]\u001b[0m\u001b[36m Epoch=5, Train accuracy=0.9394137859344482, Validation accuracy=0.9463900923728943, Loss=0.38998760034064056\u001b[0m\n",
            "Training: 100% 2487/2487 [04:14<00:00,  9.79it/s]\n",
            "Validation: 100% 639/639 [00:23<00:00, 26.64it/s]\n",
            "[\u001b[36m2023-12-03 17:09:34\u001b[0m]\u001b[32m[INFO]\u001b[0m\u001b[36m Epoch=6, Train accuracy=0.9394137859344482, Validation accuracy=0.9489336609840393, Loss=0.4230033299952596\u001b[0m\n",
            "Training: 100% 2487/2487 [04:13<00:00,  9.80it/s]\n",
            "Validation: 100% 639/639 [00:24<00:00, 26.08it/s]\n",
            "[\u001b[36m2023-12-03 17:14:12\u001b[0m]\u001b[32m[INFO]\u001b[0m\u001b[36m Epoch=7, Train accuracy=0.9411232471466064, Validation accuracy=0.9493249654769897, Loss=0.39322738689993186\u001b[0m\n",
            "Training: 100% 2487/2487 [04:16<00:00,  9.69it/s]\n",
            "Validation: 100% 639/639 [00:25<00:00, 25.40it/s]\n",
            "[\u001b[36m2023-12-03 17:18:54\u001b[0m]\u001b[32m[INFO]\u001b[0m\u001b[36m Epoch=8, Train accuracy=0.9414752125740051, Validation accuracy=0.9461944699287415, Loss=0.39864114754395086\u001b[0m\n",
            "Training: 100% 2487/2487 [04:13<00:00,  9.82it/s]\n",
            "Validation: 100% 639/639 [00:25<00:00, 25.54it/s]\n",
            "[\u001b[36m2023-12-03 17:23:32\u001b[0m]\u001b[32m[INFO]\u001b[0m\u001b[36m Epoch=9, Train accuracy=0.9416763186454773, Validation accuracy=0.9416943788528442, Loss=0.40303312838153765\u001b[0m\n",
            "[\u001b[36m2023-12-03 17:23:57\u001b[0m]\u001b[32m[INFO]\u001b[0m\u001b[36m PretrainedVGG16's checkpoint is saved\u001b[0m\n",
            "[\u001b[36m2023-12-03 17:23:58\u001b[0m]\u001b[32m[INFO]\u001b[0m\u001b[36m VGG16 parameters amount: 134,268,738\u001b[0m\n",
            "[\u001b[36m2023-12-03 17:23:58\u001b[0m]\u001b[32m[INFO]\u001b[0m\u001b[36m Using device=cuda\u001b[0m\n",
            "Training: 100% 2487/2487 [06:57<00:00,  5.96it/s]\n",
            "Validation: 100% 639/639 [00:24<00:00, 25.97it/s]\n",
            "[\u001b[36m2023-12-03 17:31:20\u001b[0m]\u001b[32m[INFO]\u001b[0m\u001b[36m Epoch=0, Train accuracy=0.4971592426300049, Validation accuracy=0.5004891157150269, Loss=0.6947307905783652\u001b[0m\n",
            "Training: 100% 2487/2487 [07:00<00:00,  5.92it/s]\n",
            "Validation: 100% 639/639 [00:24<00:00, 25.62it/s]\n",
            "[\u001b[36m2023-12-03 17:38:45\u001b[0m]\u001b[32m[INFO]\u001b[0m\u001b[36m Epoch=1, Train accuracy=0.4982653856277466, Validation accuracy=0.5008804202079773, Loss=0.6934878726440785\u001b[0m\n",
            "Training:  28% 703/2487 [01:56<04:46,  6.22it/s]"
          ]
        }
      ]
    },
    {
      "cell_type": "code",
      "source": [
        "import os\n",
        "print(len(os.listdir(\"/content/ROBT407Final/data/train/cats\")))"
      ],
      "metadata": {
        "colab": {
          "base_uri": "https://localhost:8080/"
        },
        "id": "LXMK_CDFPbAx",
        "outputId": "e9846ee9-1a44-4fe5-8b74-28bee1aae3b0"
      },
      "execution_count": null,
      "outputs": [
        {
          "output_type": "stream",
          "name": "stdout",
          "text": [
            "9919\n"
          ]
        }
      ]
    }
  ]
}